{
 "cells": [
  {
   "cell_type": "code",
   "execution_count": 2,
   "id": "b29b4050-fe45-4ca6-8de7-13f341d7bcc6",
   "metadata": {},
   "outputs": [
    {
     "name": "stdin",
     "output_type": "stream",
     "text": [
      "enter the length 12\n",
      "enter the breadth 35\n"
     ]
    },
    {
     "name": "stdout",
     "output_type": "stream",
     "text": [
      "area of the rectangle: 420\n"
     ]
    }
   ],
   "source": [
    "def rectangle_area(length, breadth):\n",
    "    area = length * breadth\n",
    "    return area\n",
    "length = int(input(\"enter the length\"))\n",
    "breadth = int(input(\"enter the breadth\"))\n",
    "area = rectangle_area(length , breadth)\n",
    "print(\"area of the rectangle:\" , area)"
   ]
  },
  {
   "cell_type": "code",
   "execution_count": 3,
   "id": "bfb835ae-908d-46d5-97e8-872599afabd5",
   "metadata": {},
   "outputs": [
    {
     "name": "stdin",
     "output_type": "stream",
     "text": [
      "enter the name: Sourangsu\n",
      "enter the age: 10\n"
     ]
    },
    {
     "name": "stdout",
     "output_type": "stream",
     "text": [
      "Hi Sourangsu good evening. Nice to meet you, Hope you're good\n"
     ]
    }
   ],
   "source": [
    "#def greetings(name, age):\n",
    "name = input(\"enter the name:\")\n",
    "age = int(input(\"enter the age:\"))\n",
    "print (\"Hi \" + name + \" good evening. Nice to meet you, Hope you're good\")"
   ]
  },
  {
   "cell_type": "code",
   "execution_count": 8,
   "id": "6b6f3021-ae0f-4d17-b0d1-7a5722103a57",
   "metadata": {},
   "outputs": [
    {
     "name": "stdin",
     "output_type": "stream",
     "text": [
      "enter the number: 22\n"
     ]
    },
    {
     "name": "stdout",
     "output_type": "stream",
     "text": [
      "The 22 is Even\n"
     ]
    }
   ],
   "source": [
    "def even_odd(number):\n",
    "    if number % 2 == 0:\n",
    "        print (f\"The {number} is Even\")\n",
    "    else:\n",
    "        print (f\"The {number} is Odd\")\n",
    "\n",
    "number = int(input(\"enter the number:\"))\n",
    "even_odd(number)"
   ]
  },
  {
   "cell_type": "code",
   "execution_count": 12,
   "id": "7e7cec03-d8fa-44ef-bf66-e794cf65a054",
   "metadata": {},
   "outputs": [
    {
     "name": "stdin",
     "output_type": "stream",
     "text": [
      "Enter the number separated by spaces: 1 2 3\n"
     ]
    },
    {
     "name": "stdout",
     "output_type": "stream",
     "text": [
      "Maximum value: 3\n",
      "Minimum value: 1\n"
     ]
    }
   ],
   "source": [
    "def max_min(l1):\n",
    "    maximum = max(l1)\n",
    "    minimum = min(l1)\n",
    "    print (f\"Maximum value: {maximum}\")\n",
    "    print (f\"Minimum value: {minimum}\")\n",
    "\n",
    "x = str(input(\"Enter the number separated by spaces:\"))\n",
    "l1 = list(map(int, x.split()))\n",
    "max_min(l1)    "
   ]
  },
  {
   "cell_type": "code",
   "execution_count": 4,
   "id": "8b153849-4c03-414d-9a26-71f444b69a71",
   "metadata": {},
   "outputs": [
    {
     "name": "stdin",
     "output_type": "stream",
     "text": [
      "Enter a string: Ellora\n"
     ]
    },
    {
     "data": {
      "text/plain": [
       "'arollE'"
      ]
     },
     "execution_count": 4,
     "metadata": {},
     "output_type": "execute_result"
    }
   ],
   "source": [
    "def reverse_string(n):\n",
    "    return n[::-1]\n",
    "n = str(input(\"Enter a string:\"))\n",
    "reverse_string(n)"
   ]
  },
  {
   "cell_type": "code",
   "execution_count": 14,
   "id": "fae70b10-e0e0-4a85-a068-2ebd71a05459",
   "metadata": {},
   "outputs": [
    {
     "name": "stdin",
     "output_type": "stream",
     "text": [
      "enter the names separated by space: sourangsu mumma ellora motu putu\n"
     ]
    },
    {
     "name": "stdout",
     "output_type": "stream",
     "text": [
      "sourangsu mumma ellora motu putu\n"
     ]
    }
   ],
   "source": [
    "def list_names(name):\n",
    "    result = \" \".join(name)\n",
    "    print (result)\n",
    "x = str(input(\"enter the names separated by space:\"))\n",
    "name = list(map(str, x.split()))\n",
    "list_names(name)"
   ]
  },
  {
   "cell_type": "code",
   "execution_count": null,
   "id": "06dc58c5-9868-4f6a-bf0b-cb3436c57b66",
   "metadata": {},
   "outputs": [],
   "source": []
  },
  {
   "cell_type": "code",
   "execution_count": null,
   "id": "95dad25a-741b-4457-b5b8-ca265fc023fc",
   "metadata": {},
   "outputs": [],
   "source": []
  },
  {
   "cell_type": "code",
   "execution_count": null,
   "id": "41086680-8907-489b-ad6d-e953005f14ec",
   "metadata": {},
   "outputs": [],
   "source": []
  }
 ],
 "metadata": {
  "kernelspec": {
   "display_name": "Python 3 (ipykernel)",
   "language": "python",
   "name": "python3"
  },
  "language_info": {
   "codemirror_mode": {
    "name": "ipython",
    "version": 3
   },
   "file_extension": ".py",
   "mimetype": "text/x-python",
   "name": "python",
   "nbconvert_exporter": "python",
   "pygments_lexer": "ipython3",
   "version": "3.12.4"
  }
 },
 "nbformat": 4,
 "nbformat_minor": 5
}
